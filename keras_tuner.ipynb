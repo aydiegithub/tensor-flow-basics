{
 "cells": [
  {
   "metadata": {},
   "cell_type": "markdown",
   "source": "### Setup",
   "id": "179e480f89797fdb"
  },
  {
   "metadata": {
    "ExecuteTime": {
     "end_time": "2025-06-28T10:43:37.517958Z",
     "start_time": "2025-06-28T10:43:35.003975Z"
    }
   },
   "cell_type": "code",
   "source": [
    "import tensorflow as tf\n",
    "from tensorflow import keras"
   ],
   "id": "6338f0df17346cd9",
   "outputs": [],
   "execution_count": 1
  },
  {
   "metadata": {
    "ExecuteTime": {
     "end_time": "2025-06-28T10:43:38.784872Z",
     "start_time": "2025-06-28T10:43:37.518932Z"
    }
   },
   "cell_type": "code",
   "source": "! pip install -q -U keras-tuner",
   "id": "96e207cbb1bcfb12",
   "outputs": [],
   "execution_count": 2
  },
  {
   "metadata": {
    "ExecuteTime": {
     "end_time": "2025-06-28T10:43:38.822994Z",
     "start_time": "2025-06-28T10:43:38.785907Z"
    }
   },
   "cell_type": "code",
   "source": "import keras_tuner as kt",
   "id": "8c1619138b9283be",
   "outputs": [],
   "execution_count": 3
  },
  {
   "metadata": {},
   "cell_type": "markdown",
   "source": "### Download and prepare the dataset",
   "id": "585593e4e74981a1"
  },
  {
   "metadata": {
    "ExecuteTime": {
     "end_time": "2025-06-28T10:54:56.073614Z",
     "start_time": "2025-06-28T10:54:55.931073Z"
    }
   },
   "cell_type": "code",
   "source": "(img_train, label_train), (img_test, label_test) = tf.keras.datasets.mnist.load_data()",
   "id": "898df6a691768c8e",
   "outputs": [],
   "execution_count": 17
  },
  {
   "metadata": {
    "ExecuteTime": {
     "end_time": "2025-06-28T10:43:39.031448Z",
     "start_time": "2025-06-28T10:43:38.950752Z"
    }
   },
   "cell_type": "code",
   "source": [
    "# Normalise the pixel values between 0 and 1\n",
    "img_train = img_train.astype('float32') / 255.0\n",
    "img_test = img_train.astype('float32') / 255.0"
   ],
   "id": "b13d3f1a0773b8a2",
   "outputs": [],
   "execution_count": 5
  },
  {
   "metadata": {},
   "cell_type": "markdown",
   "source": "### Define the model",
   "id": "926f6fdc4e4435c"
  },
  {
   "metadata": {
    "ExecuteTime": {
     "end_time": "2025-06-28T10:43:39.035794Z",
     "start_time": "2025-06-28T10:43:39.032721Z"
    }
   },
   "cell_type": "code",
   "source": [
    "def model_builder(hp):\n",
    "    model = keras.Sequential()\n",
    "    model.add(keras.layers.Flatten(input_shape = (28, 28)))\n",
    "    \n",
    "    # Tune the number of units in the first Dense layer\n",
    "    # Choose an optimal value between 32-512\n",
    "    \n",
    "    hp_units = hp.Int('units', min_value = 32, max_value = 512, step = 32)\n",
    "    model.add(keras.layers.Dense(units = hp_units, activation = 'relu'))\n",
    "    model.add(keras.layers.Dense(10))\n",
    "    \n",
    "    # Tune the learning rate for the optimizer\n",
    "    # Choose an optimal value from 0.01, 0.001, or 0.0001\n",
    "    hp_learning_rate = hp.Choice('learning_rate', values = [1e-2, 1e-3, 1e-4])\n",
    "    \n",
    "    model.compile(optimizer = keras.optimizers.Adam(learning_rate = hp_learning_rate),\n",
    "                  loss = keras.losses.SparseCategoricalCrossentropy(from_logits = True),\n",
    "                  metrics = ['accuracy'])\n",
    "    \n",
    "    return model "
   ],
   "id": "1372474440e87446",
   "outputs": [],
   "execution_count": 6
  },
  {
   "metadata": {},
   "cell_type": "markdown",
   "source": "### Instantiate the tuner and perform hypertuning",
   "id": "835477108890bddb"
  },
  {
   "metadata": {
    "ExecuteTime": {
     "end_time": "2025-06-28T10:43:39.107169Z",
     "start_time": "2025-06-28T10:43:39.036542Z"
    }
   },
   "cell_type": "code",
   "source": [
    "tuner = kt.Hyperband(model_builder,\n",
    "                     objective = 'val_accuracy',\n",
    "                     max_epochs = 10,\n",
    "                     factor = 3, \n",
    "                     directory = 'Developer/GitHub_Codes/tensor-flow-basics/',\n",
    "                     project_name = 'kt_logs')"
   ],
   "id": "fed3def950995750",
   "outputs": [
    {
     "name": "stdout",
     "output_type": "stream",
     "text": [
      "Reloading Tuner from Developer/GitHub_Codes/tensor-flow-basics/kt_logs/tuner0.json\n"
     ]
    },
    {
     "name": "stderr",
     "output_type": "stream",
     "text": [
      "2025-06-28 16:13:39.038353: I metal_plugin/src/device/metal_device.cc:1154] Metal device set to: Apple M2 Pro\n",
      "2025-06-28 16:13:39.038381: I metal_plugin/src/device/metal_device.cc:296] systemMemory: 16.00 GB\n",
      "2025-06-28 16:13:39.038389: I metal_plugin/src/device/metal_device.cc:313] maxCacheSize: 5.33 GB\n",
      "2025-06-28 16:13:39.038414: I tensorflow/core/common_runtime/pluggable_device/pluggable_device_factory.cc:305] Could not identify NUMA node of platform GPU ID 0, defaulting to 0. Your kernel may not have been built with NUMA support.\n",
      "2025-06-28 16:13:39.038437: I tensorflow/core/common_runtime/pluggable_device/pluggable_device_factory.cc:271] Created TensorFlow device (/job:localhost/replica:0/task:0/device:GPU:0 with 0 MB memory) -> physical PluggableDevice (device: 0, name: METAL, pci bus id: <undefined>)\n"
     ]
    }
   ],
   "execution_count": 7
  },
  {
   "metadata": {
    "ExecuteTime": {
     "end_time": "2025-06-28T10:43:39.110353Z",
     "start_time": "2025-06-28T10:43:39.108286Z"
    }
   },
   "cell_type": "code",
   "source": "stop_early = tf.keras.callbacks.EarlyStopping(monitor = 'val_loss', patience = 5) # patience means wait for 5 consecutive epochs with no improvement in val_loss before stopping the training.",
   "id": "2e59f97cbf9b551a",
   "outputs": [],
   "execution_count": 8
  },
  {
   "metadata": {
    "ExecuteTime": {
     "end_time": "2025-06-28T10:43:39.113731Z",
     "start_time": "2025-06-28T10:43:39.111096Z"
    }
   },
   "cell_type": "code",
   "source": [
    "tuner.search(img_train, label_train, epochs = 50, validation_split = 0.2, callbacks = [stop_early])\n",
    "\n",
    "# Get the optimal hyperparameters\n",
    "best_hps = tuner.get_best_hyperparameters(num_trials = 1)[0]\n",
    "\n",
    "print(f\"\"\"\n",
    "The hyperparameter search is complete. The optimal number of units in the first densely-connected\n",
    "layer is {best_hps.get('units')} and the optimal learning rate for the optimizer\n",
    "is {best_hps.get('learning_rate')}.\n",
    "\"\"\")"
   ],
   "id": "817176853fbfdfce",
   "outputs": [
    {
     "name": "stdout",
     "output_type": "stream",
     "text": [
      "\n",
      "The hyperparameter search is complete. The optimal number of units in the first densely-connected\n",
      "layer is 224 and the optimal learning rate for the optimizer\n",
      "is 0.001.\n",
      "\n"
     ]
    }
   ],
   "execution_count": 9
  },
  {
   "metadata": {
    "ExecuteTime": {
     "end_time": "2025-06-28T10:43:39.116028Z",
     "start_time": "2025-06-28T10:43:39.114445Z"
    }
   },
   "cell_type": "code",
   "source": [
    "print(f\"\"\"\n",
    "The hyperparameter search is complete. The optimal number of units in the first densely-connected\n",
    "layer is {best_hps.get('units')} and the optimal learning rate for the optimizer\n",
    "is {best_hps.get('learning_rate')}.\n",
    "\"\"\")"
   ],
   "id": "825950c6c62a2a88",
   "outputs": [
    {
     "name": "stdout",
     "output_type": "stream",
     "text": [
      "\n",
      "The hyperparameter search is complete. The optimal number of units in the first densely-connected\n",
      "layer is 224 and the optimal learning rate for the optimizer\n",
      "is 0.001.\n",
      "\n"
     ]
    }
   ],
   "execution_count": 10
  },
  {
   "metadata": {},
   "cell_type": "markdown",
   "source": "### Train the model",
   "id": "d833eb899edb9ce5"
  },
  {
   "metadata": {
    "ExecuteTime": {
     "end_time": "2025-06-28T10:53:19.591679Z",
     "start_time": "2025-06-28T10:43:39.116579Z"
    }
   },
   "cell_type": "code",
   "source": [
    "# Build the model with the optimal hyperparameters and train it on the data for 50 epochs\n",
    "model = tuner.hypermodel.build(best_hps)\n",
    "history = model.fit(img_train, label_train, epochs = 50, validation_split = 0.2)"
   ],
   "id": "1b5c918aa3fc31d5",
   "outputs": [
    {
     "name": "stderr",
     "output_type": "stream",
     "text": [
      "/Users/poppinadityagmail.com/miniconda3/envs/TF-Metal-GPU/lib/python3.10/site-packages/keras/src/layers/reshaping/flatten.py:37: UserWarning: Do not pass an `input_shape`/`input_dim` argument to a layer. When using Sequential models, prefer using an `Input(shape)` object as the first layer in the model instead.\n",
      "  super().__init__(**kwargs)\n"
     ]
    },
    {
     "name": "stdout",
     "output_type": "stream",
     "text": [
      "Epoch 1/50\n"
     ]
    },
    {
     "name": "stderr",
     "output_type": "stream",
     "text": [
      "2025-06-28 16:13:39.407052: I tensorflow/core/grappler/optimizers/custom_graph_optimizer_registry.cc:117] Plugin optimizer for device_type GPU is enabled.\n"
     ]
    },
    {
     "name": "stdout",
     "output_type": "stream",
     "text": [
      "\u001B[1m1500/1500\u001B[0m \u001B[32m━━━━━━━━━━━━━━━━━━━━\u001B[0m\u001B[37m\u001B[0m \u001B[1m10s\u001B[0m 7ms/step - accuracy: 0.8537 - loss: 0.5038 - val_accuracy: 0.9080 - val_loss: 0.3305\n",
      "Epoch 2/50\n",
      "\u001B[1m1500/1500\u001B[0m \u001B[32m━━━━━━━━━━━━━━━━━━━━\u001B[0m\u001B[37m\u001B[0m \u001B[1m10s\u001B[0m 6ms/step - accuracy: 0.9087 - loss: 0.3248 - val_accuracy: 0.9095 - val_loss: 0.3385\n",
      "Epoch 3/50\n",
      "\u001B[1m1500/1500\u001B[0m \u001B[32m━━━━━━━━━━━━━━━━━━━━\u001B[0m\u001B[37m\u001B[0m \u001B[1m9s\u001B[0m 6ms/step - accuracy: 0.9075 - loss: 0.3355 - val_accuracy: 0.9120 - val_loss: 0.3335\n",
      "Epoch 4/50\n",
      "\u001B[1m1500/1500\u001B[0m \u001B[32m━━━━━━━━━━━━━━━━━━━━\u001B[0m\u001B[37m\u001B[0m \u001B[1m9s\u001B[0m 6ms/step - accuracy: 0.9098 - loss: 0.3347 - val_accuracy: 0.8946 - val_loss: 0.4209\n",
      "Epoch 5/50\n",
      "\u001B[1m1500/1500\u001B[0m \u001B[32m━━━━━━━━━━━━━━━━━━━━\u001B[0m\u001B[37m\u001B[0m \u001B[1m10s\u001B[0m 6ms/step - accuracy: 0.9060 - loss: 0.3594 - val_accuracy: 0.9114 - val_loss: 0.3630\n",
      "Epoch 6/50\n",
      "\u001B[1m1500/1500\u001B[0m \u001B[32m━━━━━━━━━━━━━━━━━━━━\u001B[0m\u001B[37m\u001B[0m \u001B[1m10s\u001B[0m 7ms/step - accuracy: 0.9053 - loss: 0.3696 - val_accuracy: 0.8999 - val_loss: 0.4421\n",
      "Epoch 7/50\n",
      "\u001B[1m1500/1500\u001B[0m \u001B[32m━━━━━━━━━━━━━━━━━━━━\u001B[0m\u001B[37m\u001B[0m \u001B[1m10s\u001B[0m 7ms/step - accuracy: 0.9006 - loss: 0.4140 - val_accuracy: 0.8911 - val_loss: 0.4820\n",
      "Epoch 8/50\n",
      "\u001B[1m1500/1500\u001B[0m \u001B[32m━━━━━━━━━━━━━━━━━━━━\u001B[0m\u001B[37m\u001B[0m \u001B[1m10s\u001B[0m 6ms/step - accuracy: 0.8993 - loss: 0.4242 - val_accuracy: 0.8995 - val_loss: 0.4587\n",
      "Epoch 9/50\n",
      "\u001B[1m1500/1500\u001B[0m \u001B[32m━━━━━━━━━━━━━━━━━━━━\u001B[0m\u001B[37m\u001B[0m \u001B[1m10s\u001B[0m 7ms/step - accuracy: 0.8952 - loss: 0.4677 - val_accuracy: 0.8853 - val_loss: 0.5519\n",
      "Epoch 10/50\n",
      "\u001B[1m1500/1500\u001B[0m \u001B[32m━━━━━━━━━━━━━━━━━━━━\u001B[0m\u001B[37m\u001B[0m \u001B[1m10s\u001B[0m 7ms/step - accuracy: 0.8972 - loss: 0.4724 - val_accuracy: 0.9047 - val_loss: 0.4959\n",
      "Epoch 11/50\n",
      "\u001B[1m1500/1500\u001B[0m \u001B[32m━━━━━━━━━━━━━━━━━━━━\u001B[0m\u001B[37m\u001B[0m \u001B[1m10s\u001B[0m 7ms/step - accuracy: 0.8923 - loss: 0.5145 - val_accuracy: 0.8932 - val_loss: 0.6062\n",
      "Epoch 12/50\n",
      "\u001B[1m1500/1500\u001B[0m \u001B[32m━━━━━━━━━━━━━━━━━━━━\u001B[0m\u001B[37m\u001B[0m \u001B[1m10s\u001B[0m 7ms/step - accuracy: 0.8946 - loss: 0.5420 - val_accuracy: 0.9002 - val_loss: 0.5288\n",
      "Epoch 13/50\n",
      "\u001B[1m1500/1500\u001B[0m \u001B[32m━━━━━━━━━━━━━━━━━━━━\u001B[0m\u001B[37m\u001B[0m \u001B[1m10s\u001B[0m 7ms/step - accuracy: 0.8914 - loss: 0.5477 - val_accuracy: 0.8908 - val_loss: 0.6126\n",
      "Epoch 14/50\n",
      "\u001B[1m1500/1500\u001B[0m \u001B[32m━━━━━━━━━━━━━━━━━━━━\u001B[0m\u001B[37m\u001B[0m \u001B[1m10s\u001B[0m 7ms/step - accuracy: 0.8919 - loss: 0.5778 - val_accuracy: 0.9010 - val_loss: 0.5364\n",
      "Epoch 15/50\n",
      "\u001B[1m1500/1500\u001B[0m \u001B[32m━━━━━━━━━━━━━━━━━━━━\u001B[0m\u001B[37m\u001B[0m \u001B[1m10s\u001B[0m 7ms/step - accuracy: 0.8902 - loss: 0.6092 - val_accuracy: 0.8981 - val_loss: 0.6205\n",
      "Epoch 16/50\n",
      "\u001B[1m1500/1500\u001B[0m \u001B[32m━━━━━━━━━━━━━━━━━━━━\u001B[0m\u001B[37m\u001B[0m \u001B[1m10s\u001B[0m 7ms/step - accuracy: 0.8907 - loss: 0.6448 - val_accuracy: 0.8998 - val_loss: 0.6452\n",
      "Epoch 17/50\n",
      "\u001B[1m1500/1500\u001B[0m \u001B[32m━━━━━━━━━━━━━━━━━━━━\u001B[0m\u001B[37m\u001B[0m \u001B[1m10s\u001B[0m 7ms/step - accuracy: 0.8917 - loss: 0.6647 - val_accuracy: 0.9001 - val_loss: 0.6858\n",
      "Epoch 18/50\n",
      "\u001B[1m1500/1500\u001B[0m \u001B[32m━━━━━━━━━━━━━━━━━━━━\u001B[0m\u001B[37m\u001B[0m \u001B[1m10s\u001B[0m 7ms/step - accuracy: 0.8883 - loss: 0.6966 - val_accuracy: 0.8933 - val_loss: 0.6761\n",
      "Epoch 19/50\n",
      "\u001B[1m1500/1500\u001B[0m \u001B[32m━━━━━━━━━━━━━━━━━━━━\u001B[0m\u001B[37m\u001B[0m \u001B[1m11s\u001B[0m 7ms/step - accuracy: 0.8872 - loss: 0.7452 - val_accuracy: 0.8874 - val_loss: 0.8038\n",
      "Epoch 20/50\n",
      "\u001B[1m1500/1500\u001B[0m \u001B[32m━━━━━━━━━━━━━━━━━━━━\u001B[0m\u001B[37m\u001B[0m \u001B[1m12s\u001B[0m 8ms/step - accuracy: 0.8887 - loss: 0.7538 - val_accuracy: 0.8912 - val_loss: 0.8539\n",
      "Epoch 21/50\n",
      "\u001B[1m1500/1500\u001B[0m \u001B[32m━━━━━━━━━━━━━━━━━━━━\u001B[0m\u001B[37m\u001B[0m \u001B[1m11s\u001B[0m 8ms/step - accuracy: 0.8918 - loss: 0.7507 - val_accuracy: 0.8847 - val_loss: 0.8893\n",
      "Epoch 22/50\n",
      "\u001B[1m1500/1500\u001B[0m \u001B[32m━━━━━━━━━━━━━━━━━━━━\u001B[0m\u001B[37m\u001B[0m \u001B[1m11s\u001B[0m 7ms/step - accuracy: 0.8878 - loss: 0.8125 - val_accuracy: 0.8975 - val_loss: 0.8354\n",
      "Epoch 23/50\n",
      "\u001B[1m1500/1500\u001B[0m \u001B[32m━━━━━━━━━━━━━━━━━━━━\u001B[0m\u001B[37m\u001B[0m \u001B[1m12s\u001B[0m 8ms/step - accuracy: 0.8916 - loss: 0.8091 - val_accuracy: 0.9018 - val_loss: 0.7422\n",
      "Epoch 24/50\n",
      "\u001B[1m1500/1500\u001B[0m \u001B[32m━━━━━━━━━━━━━━━━━━━━\u001B[0m\u001B[37m\u001B[0m \u001B[1m11s\u001B[0m 8ms/step - accuracy: 0.8912 - loss: 0.8062 - val_accuracy: 0.8996 - val_loss: 0.8342\n",
      "Epoch 25/50\n",
      "\u001B[1m1500/1500\u001B[0m \u001B[32m━━━━━━━━━━━━━━━━━━━━\u001B[0m\u001B[37m\u001B[0m \u001B[1m12s\u001B[0m 8ms/step - accuracy: 0.8884 - loss: 0.8862 - val_accuracy: 0.8923 - val_loss: 0.9641\n",
      "Epoch 26/50\n",
      "\u001B[1m1500/1500\u001B[0m \u001B[32m━━━━━━━━━━━━━━━━━━━━\u001B[0m\u001B[37m\u001B[0m \u001B[1m12s\u001B[0m 8ms/step - accuracy: 0.8879 - loss: 0.9214 - val_accuracy: 0.8833 - val_loss: 0.9922\n",
      "Epoch 27/50\n",
      "\u001B[1m1500/1500\u001B[0m \u001B[32m━━━━━━━━━━━━━━━━━━━━\u001B[0m\u001B[37m\u001B[0m \u001B[1m12s\u001B[0m 8ms/step - accuracy: 0.8834 - loss: 1.0001 - val_accuracy: 0.9011 - val_loss: 0.8601\n",
      "Epoch 28/50\n",
      "\u001B[1m1500/1500\u001B[0m \u001B[32m━━━━━━━━━━━━━━━━━━━━\u001B[0m\u001B[37m\u001B[0m \u001B[1m12s\u001B[0m 8ms/step - accuracy: 0.8886 - loss: 0.9445 - val_accuracy: 0.8693 - val_loss: 1.3267\n",
      "Epoch 29/50\n",
      "\u001B[1m1500/1500\u001B[0m \u001B[32m━━━━━━━━━━━━━━━━━━━━\u001B[0m\u001B[37m\u001B[0m \u001B[1m14s\u001B[0m 9ms/step - accuracy: 0.8873 - loss: 1.0093 - val_accuracy: 0.8844 - val_loss: 1.1299\n",
      "Epoch 30/50\n",
      "\u001B[1m1500/1500\u001B[0m \u001B[32m━━━━━━━━━━━━━━━━━━━━\u001B[0m\u001B[37m\u001B[0m \u001B[1m14s\u001B[0m 9ms/step - accuracy: 0.8847 - loss: 1.0596 - val_accuracy: 0.8946 - val_loss: 1.0856\n",
      "Epoch 31/50\n",
      "\u001B[1m1500/1500\u001B[0m \u001B[32m━━━━━━━━━━━━━━━━━━━━\u001B[0m\u001B[37m\u001B[0m \u001B[1m14s\u001B[0m 9ms/step - accuracy: 0.8861 - loss: 1.0597 - val_accuracy: 0.8655 - val_loss: 1.4809\n",
      "Epoch 32/50\n",
      "\u001B[1m1500/1500\u001B[0m \u001B[32m━━━━━━━━━━━━━━━━━━━━\u001B[0m\u001B[37m\u001B[0m \u001B[1m13s\u001B[0m 9ms/step - accuracy: 0.8870 - loss: 1.0857 - val_accuracy: 0.8957 - val_loss: 1.1210\n",
      "Epoch 33/50\n",
      "\u001B[1m1500/1500\u001B[0m \u001B[32m━━━━━━━━━━━━━━━━━━━━\u001B[0m\u001B[37m\u001B[0m \u001B[1m13s\u001B[0m 9ms/step - accuracy: 0.8856 - loss: 1.1290 - val_accuracy: 0.8898 - val_loss: 1.1372\n",
      "Epoch 34/50\n",
      "\u001B[1m1500/1500\u001B[0m \u001B[32m━━━━━━━━━━━━━━━━━━━━\u001B[0m\u001B[37m\u001B[0m \u001B[1m13s\u001B[0m 9ms/step - accuracy: 0.8868 - loss: 1.1456 - val_accuracy: 0.8639 - val_loss: 1.4434\n",
      "Epoch 35/50\n",
      "\u001B[1m1500/1500\u001B[0m \u001B[32m━━━━━━━━━━━━━━━━━━━━\u001B[0m\u001B[37m\u001B[0m \u001B[1m13s\u001B[0m 9ms/step - accuracy: 0.8838 - loss: 1.2029 - val_accuracy: 0.8903 - val_loss: 1.1680\n",
      "Epoch 36/50\n",
      "\u001B[1m1500/1500\u001B[0m \u001B[32m━━━━━━━━━━━━━━━━━━━━\u001B[0m\u001B[37m\u001B[0m \u001B[1m13s\u001B[0m 9ms/step - accuracy: 0.8887 - loss: 1.1568 - val_accuracy: 0.8905 - val_loss: 1.2001\n",
      "Epoch 37/50\n",
      "\u001B[1m1500/1500\u001B[0m \u001B[32m━━━━━━━━━━━━━━━━━━━━\u001B[0m\u001B[37m\u001B[0m \u001B[1m13s\u001B[0m 9ms/step - accuracy: 0.8842 - loss: 1.2690 - val_accuracy: 0.8849 - val_loss: 1.3050\n",
      "Epoch 38/50\n",
      "\u001B[1m1500/1500\u001B[0m \u001B[32m━━━━━━━━━━━━━━━━━━━━\u001B[0m\u001B[37m\u001B[0m \u001B[1m13s\u001B[0m 9ms/step - accuracy: 0.8875 - loss: 1.2497 - val_accuracy: 0.8960 - val_loss: 1.3232\n",
      "Epoch 39/50\n",
      "\u001B[1m1500/1500\u001B[0m \u001B[32m━━━━━━━━━━━━━━━━━━━━\u001B[0m\u001B[37m\u001B[0m \u001B[1m13s\u001B[0m 8ms/step - accuracy: 0.8846 - loss: 1.3336 - val_accuracy: 0.8938 - val_loss: 1.3831\n",
      "Epoch 40/50\n",
      "\u001B[1m1500/1500\u001B[0m \u001B[32m━━━━━━━━━━━━━━━━━━━━\u001B[0m\u001B[37m\u001B[0m \u001B[1m13s\u001B[0m 9ms/step - accuracy: 0.8827 - loss: 1.3866 - val_accuracy: 0.8705 - val_loss: 1.6851\n",
      "Epoch 41/50\n",
      "\u001B[1m1500/1500\u001B[0m \u001B[32m━━━━━━━━━━━━━━━━━━━━\u001B[0m\u001B[37m\u001B[0m \u001B[1m13s\u001B[0m 9ms/step - accuracy: 0.8820 - loss: 1.4361 - val_accuracy: 0.8898 - val_loss: 1.4660\n",
      "Epoch 42/50\n",
      "\u001B[1m1500/1500\u001B[0m \u001B[32m━━━━━━━━━━━━━━━━━━━━\u001B[0m\u001B[37m\u001B[0m \u001B[1m13s\u001B[0m 9ms/step - accuracy: 0.8896 - loss: 1.3434 - val_accuracy: 0.8907 - val_loss: 1.4788\n",
      "Epoch 43/50\n",
      "\u001B[1m1500/1500\u001B[0m \u001B[32m━━━━━━━━━━━━━━━━━━━━\u001B[0m\u001B[37m\u001B[0m \u001B[1m13s\u001B[0m 9ms/step - accuracy: 0.8903 - loss: 1.3612 - val_accuracy: 0.8864 - val_loss: 1.5975\n",
      "Epoch 44/50\n",
      "\u001B[1m1500/1500\u001B[0m \u001B[32m━━━━━━━━━━━━━━━━━━━━\u001B[0m\u001B[37m\u001B[0m \u001B[1m13s\u001B[0m 9ms/step - accuracy: 0.8906 - loss: 1.3582 - val_accuracy: 0.8880 - val_loss: 1.6212\n",
      "Epoch 45/50\n",
      "\u001B[1m1500/1500\u001B[0m \u001B[32m━━━━━━━━━━━━━━━━━━━━\u001B[0m\u001B[37m\u001B[0m \u001B[1m13s\u001B[0m 9ms/step - accuracy: 0.8887 - loss: 1.3845 - val_accuracy: 0.8928 - val_loss: 1.5880\n",
      "Epoch 46/50\n",
      "\u001B[1m1500/1500\u001B[0m \u001B[32m━━━━━━━━━━━━━━━━━━━━\u001B[0m\u001B[37m\u001B[0m \u001B[1m13s\u001B[0m 9ms/step - accuracy: 0.8850 - loss: 1.5172 - val_accuracy: 0.8653 - val_loss: 1.8940\n",
      "Epoch 47/50\n",
      "\u001B[1m1500/1500\u001B[0m \u001B[32m━━━━━━━━━━━━━━━━━━━━\u001B[0m\u001B[37m\u001B[0m \u001B[1m13s\u001B[0m 9ms/step - accuracy: 0.8850 - loss: 1.6397 - val_accuracy: 0.9004 - val_loss: 1.3876\n",
      "Epoch 48/50\n",
      "\u001B[1m1500/1500\u001B[0m \u001B[32m━━━━━━━━━━━━━━━━━━━━\u001B[0m\u001B[37m\u001B[0m \u001B[1m13s\u001B[0m 9ms/step - accuracy: 0.8864 - loss: 1.5788 - val_accuracy: 0.8764 - val_loss: 1.9153\n",
      "Epoch 49/50\n",
      "\u001B[1m1500/1500\u001B[0m \u001B[32m━━━━━━━━━━━━━━━━━━━━\u001B[0m\u001B[37m\u001B[0m \u001B[1m13s\u001B[0m 9ms/step - accuracy: 0.8874 - loss: 1.5420 - val_accuracy: 0.9006 - val_loss: 1.5110\n",
      "Epoch 50/50\n",
      "\u001B[1m1500/1500\u001B[0m \u001B[32m━━━━━━━━━━━━━━━━━━━━\u001B[0m\u001B[37m\u001B[0m \u001B[1m13s\u001B[0m 9ms/step - accuracy: 0.8840 - loss: 1.5742 - val_accuracy: 0.9000 - val_loss: 1.5064\n"
     ]
    }
   ],
   "execution_count": 11
  },
  {
   "metadata": {
    "ExecuteTime": {
     "end_time": "2025-06-28T10:53:19.595977Z",
     "start_time": "2025-06-28T10:53:19.593021Z"
    }
   },
   "cell_type": "code",
   "source": [
    "val_acc_per_epoch = history.history['val_accuracy']\n",
    "best_epoch = val_acc_per_epoch.index(max(val_acc_per_epoch)) + 1\n",
    "print(\"Best epoch: %d at %d \" % (best_epoch, max(val_acc_per_epoch)))"
   ],
   "id": "18b9ba0464c91aa8",
   "outputs": [
    {
     "name": "stdout",
     "output_type": "stream",
     "text": [
      "Best epoch: 3 at 0 \n"
     ]
    }
   ],
   "execution_count": 12
  },
  {
   "metadata": {
    "ExecuteTime": {
     "end_time": "2025-06-28T10:53:50.742170Z",
     "start_time": "2025-06-28T10:53:19.596743Z"
    }
   },
   "cell_type": "code",
   "source": [
    "hypermodel = tuner.hypermodel.build(best_hps)\n",
    "\n",
    "# Retrain the model\n",
    "hypermodel.fit(img_train, label_train, epochs=best_epoch, validation_split=0.2)"
   ],
   "id": "19f531026b321e7e",
   "outputs": [
    {
     "name": "stdout",
     "output_type": "stream",
     "text": [
      "Epoch 1/3\n",
      "\u001B[1m1500/1500\u001B[0m \u001B[32m━━━━━━━━━━━━━━━━━━━━\u001B[0m\u001B[37m\u001B[0m \u001B[1m11s\u001B[0m 7ms/step - accuracy: 0.8488 - loss: 0.5069 - val_accuracy: 0.9113 - val_loss: 0.3180\n",
      "Epoch 2/3\n",
      "\u001B[1m1500/1500\u001B[0m \u001B[32m━━━━━━━━━━━━━━━━━━━━\u001B[0m\u001B[37m\u001B[0m \u001B[1m10s\u001B[0m 7ms/step - accuracy: 0.9087 - loss: 0.3211 - val_accuracy: 0.9170 - val_loss: 0.3076\n",
      "Epoch 3/3\n",
      "\u001B[1m1500/1500\u001B[0m \u001B[32m━━━━━━━━━━━━━━━━━━━━\u001B[0m\u001B[37m\u001B[0m \u001B[1m10s\u001B[0m 7ms/step - accuracy: 0.9081 - loss: 0.3311 - val_accuracy: 0.9084 - val_loss: 0.3378\n"
     ]
    },
    {
     "data": {
      "text/plain": [
       "<keras.src.callbacks.history.History at 0x17f707970>"
      ]
     },
     "execution_count": 13,
     "metadata": {},
     "output_type": "execute_result"
    }
   ],
   "execution_count": 13
  },
  {
   "metadata": {
    "ExecuteTime": {
     "end_time": "2025-06-28T10:55:01.432435Z",
     "start_time": "2025-06-28T10:55:00.153048Z"
    }
   },
   "cell_type": "code",
   "source": [
    "eval_result = hypermodel.evaluate(img_test, label_test)\n",
    "print(\"[test loss, test accuracy]: \", eval_result)"
   ],
   "id": "f9297043e66f4495",
   "outputs": [
    {
     "name": "stdout",
     "output_type": "stream",
     "text": [
      "\u001B[1m313/313\u001B[0m \u001B[32m━━━━━━━━━━━━━━━━━━━━\u001B[0m\u001B[37m\u001B[0m \u001B[1m1s\u001B[0m 4ms/step - accuracy: 0.8696 - loss: 93.2792\n",
      "[test loss, test accuracy]:  [86.07719421386719, 0.8834999799728394]\n"
     ]
    }
   ],
   "execution_count": 18
  },
  {
   "metadata": {
    "ExecuteTime": {
     "end_time": "2025-06-28T10:55:01.448675Z",
     "start_time": "2025-06-28T10:55:01.446592Z"
    }
   },
   "cell_type": "code",
   "source": [
    "print(\"img_test shape:\", img_test.shape)\n",
    "print(\"label_test shape:\", label_test.shape)"
   ],
   "id": "f662af5b1f3c61fa",
   "outputs": [
    {
     "name": "stdout",
     "output_type": "stream",
     "text": [
      "img_test shape: (10000, 28, 28)\n",
      "label_test shape: (10000,)\n"
     ]
    }
   ],
   "execution_count": 19
  },
  {
   "metadata": {
    "ExecuteTime": {
     "end_time": "2025-06-28T10:53:51.214361Z",
     "start_time": "2025-06-28T10:53:51.214081Z"
    }
   },
   "cell_type": "code",
   "source": "",
   "id": "fc8558b005e5ba6e",
   "outputs": [],
   "execution_count": null
  }
 ],
 "metadata": {
  "kernelspec": {
   "display_name": "Python 3",
   "language": "python",
   "name": "python3"
  },
  "language_info": {
   "codemirror_mode": {
    "name": "ipython",
    "version": 2
   },
   "file_extension": ".py",
   "mimetype": "text/x-python",
   "name": "python",
   "nbconvert_exporter": "python",
   "pygments_lexer": "ipython2",
   "version": "2.7.6"
  }
 },
 "nbformat": 4,
 "nbformat_minor": 5
}
